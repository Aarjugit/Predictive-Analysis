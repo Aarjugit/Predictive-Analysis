{
  "nbformat": 4,
  "nbformat_minor": 0,
  "metadata": {
    "colab": {
      "provenance": [],
      "authorship_tag": "ABX9TyPy89+pdqCQO9dzhem7eWex",
      "include_colab_link": true
    },
    "kernelspec": {
      "name": "python3",
      "display_name": "Python 3"
    },
    "language_info": {
      "name": "python"
    }
  },
  "cells": [
    {
      "cell_type": "markdown",
      "metadata": {
        "id": "view-in-github",
        "colab_type": "text"
      },
      "source": [
        "<a href=\"https://colab.research.google.com/github/Aarjugit/Predictive-Analysis/blob/main/Markov_convergence.ipynb\" target=\"_parent\"><img src=\"https://colab.research.google.com/assets/colab-badge.svg\" alt=\"Open In Colab\"/></a>"
      ]
    },
    {
      "cell_type": "code",
      "execution_count": 3,
      "metadata": {
        "colab": {
          "base_uri": "https://localhost:8080/"
        },
        "id": "VmXtgeFovlt5",
        "outputId": "63f59a16-bf17-4096-bec1-c26025e180f1"
      },
      "outputs": [
        {
          "output_type": "stream",
          "name": "stdout",
          "text": [
            "count(i) -> state [1 0 0]\n",
            "count(i) -> state [0 0 1]\n",
            "count(i) -> state [0 1 0]\n",
            "count(i) -> state [1 0 0]\n",
            "count(i) -> state [0 0 1]\n",
            "count(i) -> state [0 1 0]\n",
            "count(i) -> state [1 0 0]\n",
            "count(i) -> state [0 0 1]\n",
            "count(i) -> state [0 1 0]\n",
            "count(i) -> state [1 0 0]\n"
          ]
        }
      ],
      "source": [
        "import numpy as np\n",
        "#give me a markov matrix which is not having a steady state\n",
        "t_mat=np.array([[0,1,0],[0,0,1],[1,0,0]])\n",
        "i_state=np.array([0,1,0])\n",
        "for i in range(10):\n",
        "  i_state=np.dot(t_mat,i_state)\n",
        "  print(f\"count(i) -> state {i_state}\")"
      ]
    },
    {
      "cell_type": "code",
      "source": [
        "#how much time/iterations it will take till convergence\n",
        "def calculate_error(v1,v2):\n",
        "  return np.sum(np.abs(v1-v2))\n",
        "t_mat=np.array([[0.5,0.25,0.5],[0.25,0.5,0.5],[0.25,0.25,0]])\n",
        "print(t_mat)\n",
        "#now find the initial state\n",
        "i_state=np.array([0.58,0.12,0.3])\n",
        "next_state=np.dot(t_mat,i_state)\n",
        "print(next_state)\n",
        "#here we will count the steps\n",
        "count=1\n",
        "#I am giving random threshold here as 10^-4 so once it reaches here it will stop\n",
        "while calculate_error(i_state,next_state)>0.0001:\n",
        "  i_state=next_state\n",
        "  next_state=np.dot(t_mat,i_state)\n",
        "  count += 1\n",
        "  print(f\"iteration -> {count},next state{next_state}\")\n",
        "\n",
        "\n"
      ],
      "metadata": {
        "colab": {
          "base_uri": "https://localhost:8080/"
        },
        "id": "28aLv4hA8uFV",
        "outputId": "53a67ab1-2f25-4cfd-b277-7b214a809fb8"
      },
      "execution_count": 7,
      "outputs": [
        {
          "output_type": "stream",
          "name": "stdout",
          "text": [
            "[[0.5  0.25 0.5 ]\n",
            " [0.25 0.5  0.5 ]\n",
            " [0.25 0.25 0.  ]]\n",
            "[0.47  0.355 0.175]\n",
            "iteration -> 2,next state[0.41125 0.3825  0.20625]\n",
            "iteration -> 3,next state[0.404375  0.3971875 0.1984375]\n",
            "iteration -> 4,next state[0.40070313 0.39890625 0.20039063]\n",
            "iteration -> 5,next state[0.40027344 0.39982422 0.19990234]\n",
            "iteration -> 6,next state[0.40004395 0.39993164 0.20002441]\n",
            "iteration -> 7,next state[0.40001709 0.39998901 0.1999939 ]\n",
            "iteration -> 8,next state[0.40000275 0.39999573 0.20000153]\n"
          ]
        }
      ]
    }
  ]
}