{
  "nbformat": 4,
  "nbformat_minor": 0,
  "metadata": {
    "colab": {
      "provenance": [],
      "authorship_tag": "ABX9TyPMiqHAyTWQ8OLbc19BAa69",
      "include_colab_link": true
    },
    "kernelspec": {
      "name": "python3",
      "display_name": "Python 3"
    },
    "language_info": {
      "name": "python"
    }
  },
  "cells": [
    {
      "cell_type": "markdown",
      "metadata": {
        "id": "view-in-github",
        "colab_type": "text"
      },
      "source": [
        "<a href=\"https://colab.research.google.com/github/Aarjugit/Predictive-Analysis/blob/main/markov'schains.ipynb\" target=\"_parent\"><img src=\"https://colab.research.google.com/assets/colab-badge.svg\" alt=\"Open In Colab\"/></a>"
      ]
    },
    {
      "cell_type": "markdown",
      "source": [
        "Matrix vector multiplication , test case- if you are having A,B,C Park and find the day wise visit in park according to the values given in matrix. For parkA 0.3 remains in park A, 0.5 goes to park B, 0.2 goes to park C asnd so on"
      ],
      "metadata": {
        "id": "fhsYurnxa8yh"
      }
    },
    {
      "cell_type": "code",
      "execution_count": null,
      "metadata": {
        "colab": {
          "base_uri": "https://localhost:8080/"
        },
        "id": "zj2fjMGSTpww",
        "outputId": "90faae69-5957-463a-bf4d-62e3445ad4f1"
      },
      "outputs": [
        {
          "output_type": "stream",
          "name": "stdout",
          "text": [
            "[[0.3 0.4 0.6]\n",
            " [0.5 0.4 0.3]\n",
            " [0.2 0.2 0.1]]\n"
          ]
        }
      ],
      "source": [
        "import numpy as np\n",
        "#define the transition matrix\n",
        "#matrix define according to the chances go in park A,B,C..All for park A in one row cz every row is sum to 1.\n",
        "#but acording to convention every column should be 1\n",
        "#so we need to convert the raw sum to one into column sum to 1\n",
        "#The idea of changing it is called as Transpose\n",
        "T=np.array([[0.30,0.50,0.20],\n",
        "            [0.40,0.40,0.20],\n",
        "            [0.60,0.30,0.10]])\n",
        "#take the transpose of T for making the chnages\n",
        "#once you do transpose your columns will sum to 1\n",
        "T=T.T\n",
        "print(T)\n"
      ]
    },
    {
      "cell_type": "code",
      "source": [
        "#iniial_state:100% chance of being in park B\n",
        "initial_state=np.array([0,1,0])\n",
        "print(initial_state)\n",
        "#Now multiply transition matrix by initial state for Day 2\n",
        "day_2_state=np.dot(T,initial_state)\n",
        "print(day_2_state)\n",
        "day_3_state=np.dot(T,day_2_state)\n",
        "print(day_3_state)\n",
        "day_4_state=np.dot(T,day_3_state)\n",
        "print(day_4_state)\n",
        "#The sum is always one ,You can see in output, You can not go beyond 1"
      ],
      "metadata": {
        "colab": {
          "base_uri": "https://localhost:8080/"
        },
        "id": "EqYJrBoOYFDC",
        "outputId": "b56017ac-43c4-432c-fc85-e0274aaf5dd3"
      },
      "execution_count": null,
      "outputs": [
        {
          "output_type": "stream",
          "name": "stdout",
          "text": [
            "[0 1 0]\n",
            "[0.4 0.4 0.2]\n",
            "[0.4  0.42 0.18]\n",
            "[0.396 0.422 0.182]\n"
          ]
        }
      ]
    },
    {
      "cell_type": "code",
      "source": [
        "print(f\"state after Day 2: {day_2_state}\")\n",
        "print(f\"state after Day 3: {day_3_state}\")\n",
        "print(f\"state after Day 4: {day_4_state}\")"
      ],
      "metadata": {
        "colab": {
          "base_uri": "https://localhost:8080/"
        },
        "id": "SS1LPmfTakEw",
        "outputId": "51bda4da-0de4-44d8-fd6c-b7cf92289a10"
      },
      "execution_count": null,
      "outputs": [
        {
          "output_type": "stream",
          "name": "stdout",
          "text": [
            "state after Day 2: [0.4 0.4 0.2]\n",
            "state after Day 3: [0.4  0.42 0.18]\n",
            "state after Day 4: [0.396 0.422 0.182]\n"
          ]
        }
      ]
    },
    {
      "cell_type": "markdown",
      "source": [
        "so, now I want to know after 1000's of days.I will just put in a loop and do it for 10000 times.\n",
        "\n"
      ],
      "metadata": {
        "id": "67qI99OQcKJF"
      }
    },
    {
      "cell_type": "markdown",
      "source": [
        "simulate the evolution of a Markov chain over time.where the future state depends only on the present state, not on the past.\n",
        "\n"
      ],
      "metadata": {
        "id": "ojpdXumufe3O"
      }
    },
    {
      "cell_type": "code",
      "source": [
        "import numpy as np\n",
        "T_mat=np.array([[0.30,0.50,0.20],\n",
        "                [0.40,0.40,0.20],\n",
        "                [0.60,0.30,0.10]])\n",
        "T_mat=T_mat.T\n",
        "#you started from b , you can make changes to c, d as well. the result remains same\n",
        "state=np.array([0,1,0])\n",
        "#Simulate many Days\n",
        "#iterate many times to approach the steady state\n",
        "#got the resultant vector in each iteration and multiply with matrix\n",
        "for i in range(10000):\n",
        "  state=np.dot(T_mat,state)\n",
        "print(f\"steady_state:{state}\")\n",
        "print(np.sum(state))"
      ],
      "metadata": {
        "colab": {
          "base_uri": "https://localhost:8080/"
        },
        "id": "xQusA-y-cfyA",
        "outputId": "f3732024-dfb0-468e-925f-e3a7d3414a6e"
      },
      "execution_count": null,
      "outputs": [
        {
          "output_type": "stream",
          "name": "stdout",
          "text": [
            "steady_state:[0.39669421 0.4214876  0.18181818]\n",
            "1.0000000000000007\n"
          ]
        }
      ]
    },
    {
      "cell_type": "code",
      "source": [
        "import numpy as np\n",
        "T=np.array([[0.1,0.3,0.2,0.2,0.1,0.1],\n",
        "            [0.2,0.1,0.3,0.2,0.1,0.1],\n",
        "            [0.1,0.2,0.1,0.3,0.2,0.1],\n",
        "            [0.1,0,0,0,0,0],\n",
        "            [0,0,0,0,0,1],\n",
        "            [0.2,0.1,0.2,0,0,0.5]])\n",
        "T=T.T\n",
        "state=np.array([0,0,1,0,0,0])\n",
        "\n",
        "for _ in range(10000):\n",
        "  state = np.dot(T,state)\n",
        "print(f\"steady_state:{state}\")\n",
        "print(np.sum(state))\n"
      ],
      "metadata": {
        "colab": {
          "base_uri": "https://localhost:8080/"
        },
        "id": "Ut5u-FW-iFq1",
        "outputId": "98018a91-59cf-41f0-aeae-2abfc36d027a"
      },
      "execution_count": 19,
      "outputs": [
        {
          "output_type": "stream",
          "name": "stdout",
          "text": [
            "steady_state:[2.5e-323 1.5e-323 2.5e-323 1.5e-323 9.9e-324 4.0e-323]\n",
            "1.3e-322\n"
          ]
        }
      ]
    }
  ]
}